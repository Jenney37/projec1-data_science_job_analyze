{
 "cells": [
  {
   "cell_type": "markdown",
   "id": "statutory-electronics",
   "metadata": {},
   "source": [
    "### modelling\n",
    "1. find the relevant variabies\n",
    "2. convert catgorical variables to numeric\n",
    "3. train test split\n",
    "4. build model:<br/>\n",
    "  multiple linear regression <br/>\n",
    "  lasso <br/>\n",
    "  random forest <br/>\n",
    "5. tue hyperparameters using randomGridsearch/RandomizedSearchCV\n"
   ]
  },
  {
   "cell_type": "code",
   "execution_count": 31,
   "id": "objective-mailman",
   "metadata": {},
   "outputs": [],
   "source": [
    "import numpy as np\n",
    "import pandas as pd \n",
    "import matplotlib.pyplot as plt\n",
    "\n",
    "from sklearn.linear_model import LinearRegression, Ridge, Lasso, ElasticNet\n",
    "from sklearn.svm import SVR\n",
    "from sklearn.preprocessing import PolynomialFeatures\n",
    "from sklearn.tree import DecisionTreeRegressor\n",
    "from sklearn.svm import SVR\n",
    "import sklearn.metrics as skm\n",
    "from sklearn.model_selection import train_test_split\n",
    "import operator as op\n",
    "\n",
    "from sklearn.impute import SimpleImputer\n",
    "\n",
    "import seaborn as sns"
   ]
  },
  {
   "cell_type": "code",
   "execution_count": 32,
   "id": "addressed-pension",
   "metadata": {},
   "outputs": [
    {
     "data": {
      "text/html": [
       "<div>\n",
       "<style scoped>\n",
       "    .dataframe tbody tr th:only-of-type {\n",
       "        vertical-align: middle;\n",
       "    }\n",
       "\n",
       "    .dataframe tbody tr th {\n",
       "        vertical-align: top;\n",
       "    }\n",
       "\n",
       "    .dataframe thead th {\n",
       "        text-align: right;\n",
       "    }\n",
       "</style>\n",
       "<table border=\"1\" class=\"dataframe\">\n",
       "  <thead>\n",
       "    <tr style=\"text-align: right;\">\n",
       "      <th></th>\n",
       "      <th>Unnamed: 0</th>\n",
       "      <th>Job Title</th>\n",
       "      <th>Salary Estimate</th>\n",
       "      <th>Average Salary</th>\n",
       "      <th>Job Description</th>\n",
       "      <th>Rating</th>\n",
       "      <th>Company Name</th>\n",
       "      <th>Location</th>\n",
       "      <th>Size</th>\n",
       "      <th>Founded</th>\n",
       "      <th>...</th>\n",
       "      <th>r_yn</th>\n",
       "      <th>ML_yn</th>\n",
       "      <th>excel_yn</th>\n",
       "      <th>spark_yn</th>\n",
       "      <th>aws_yn</th>\n",
       "      <th>graduate_yn</th>\n",
       "      <th>ave_salary</th>\n",
       "      <th>job_simp</th>\n",
       "      <th>job_level</th>\n",
       "      <th>desc_len</th>\n",
       "    </tr>\n",
       "  </thead>\n",
       "  <tbody>\n",
       "    <tr>\n",
       "      <th>0</th>\n",
       "      <td>0</td>\n",
       "      <td>Data Science Graduate/Undergraduate - Immed St...</td>\n",
       "      <td>$97K - $141K (Glassdoor Est.)</td>\n",
       "      <td>$116,841 /yr (est.)</td>\n",
       "      <td>Be part of the Award Winning CIMIC Graduate Pr...</td>\n",
       "      <td>3.8</td>\n",
       "      <td>UGL Limited\\n3.8</td>\n",
       "      <td>North Shore</td>\n",
       "      <td>5001 to 10000 Employees</td>\n",
       "      <td>1984</td>\n",
       "      <td>...</td>\n",
       "      <td>1</td>\n",
       "      <td>0</td>\n",
       "      <td>1</td>\n",
       "      <td>0</td>\n",
       "      <td>0</td>\n",
       "      <td>1</td>\n",
       "      <td>116841.0</td>\n",
       "      <td>na</td>\n",
       "      <td>na</td>\n",
       "      <td>2319</td>\n",
       "    </tr>\n",
       "    <tr>\n",
       "      <th>1</th>\n",
       "      <td>1</td>\n",
       "      <td>Graduate Data Science - Brisbane (Corporate)</td>\n",
       "      <td>$97K - $141K (Glassdoor Est.)</td>\n",
       "      <td>$128,589 /yr (est.)</td>\n",
       "      <td>Job Number:\\n82295\\nWork type:\\nPermanent - Fu...</td>\n",
       "      <td>3.7</td>\n",
       "      <td>Aurizon\\n3.7</td>\n",
       "      <td>Brisbane</td>\n",
       "      <td>1001 to 5000 Employees</td>\n",
       "      <td>2009</td>\n",
       "      <td>...</td>\n",
       "      <td>1</td>\n",
       "      <td>1</td>\n",
       "      <td>0</td>\n",
       "      <td>0</td>\n",
       "      <td>0</td>\n",
       "      <td>1</td>\n",
       "      <td>128589.0</td>\n",
       "      <td>na</td>\n",
       "      <td>na</td>\n",
       "      <td>4012</td>\n",
       "    </tr>\n",
       "    <tr>\n",
       "      <th>2</th>\n",
       "      <td>2</td>\n",
       "      <td>Consulting - Data &amp; AI - 2022/23 Summer Vacati...</td>\n",
       "      <td>$97K - $141K (Glassdoor Est.)</td>\n",
       "      <td>$78,167 /yr (est.)</td>\n",
       "      <td>Date: 18-Jul-2022\\n\\nLocation:\\nCanberra, ACT,...</td>\n",
       "      <td>4.0</td>\n",
       "      <td>Deloitte\\n4.0</td>\n",
       "      <td>Canberra</td>\n",
       "      <td>10000+ Employees</td>\n",
       "      <td>1850</td>\n",
       "      <td>...</td>\n",
       "      <td>1</td>\n",
       "      <td>1</td>\n",
       "      <td>1</td>\n",
       "      <td>0</td>\n",
       "      <td>0</td>\n",
       "      <td>0</td>\n",
       "      <td>78167.0</td>\n",
       "      <td>consulting</td>\n",
       "      <td>na</td>\n",
       "      <td>3348</td>\n",
       "    </tr>\n",
       "    <tr>\n",
       "      <th>3</th>\n",
       "      <td>3</td>\n",
       "      <td>Data Scientist</td>\n",
       "      <td>$97K - $141K (Glassdoor Est.)</td>\n",
       "      <td>$125,000 /yr (est.)</td>\n",
       "      <td>Job description\\nData Scientist Skills\\nProgra...</td>\n",
       "      <td>-1.0</td>\n",
       "      <td>GoTech Solutions Pty Ltd</td>\n",
       "      <td>Sydney</td>\n",
       "      <td>-1</td>\n",
       "      <td>-1</td>\n",
       "      <td>...</td>\n",
       "      <td>1</td>\n",
       "      <td>1</td>\n",
       "      <td>1</td>\n",
       "      <td>0</td>\n",
       "      <td>0</td>\n",
       "      <td>0</td>\n",
       "      <td>125000.0</td>\n",
       "      <td>data scientist</td>\n",
       "      <td>na</td>\n",
       "      <td>1828</td>\n",
       "    </tr>\n",
       "    <tr>\n",
       "      <th>4</th>\n",
       "      <td>4</td>\n",
       "      <td>Research Associate - Data Science</td>\n",
       "      <td>$97K - $141K (Glassdoor Est.)</td>\n",
       "      <td>$102,500 /yr (est.)</td>\n",
       "      <td>Job no: 510607\\nWork type: Full time\\nLocation...</td>\n",
       "      <td>4.2</td>\n",
       "      <td>University of New South Wales\\n4.2</td>\n",
       "      <td>Sydney</td>\n",
       "      <td>1001 to 5000 Employees</td>\n",
       "      <td>1949</td>\n",
       "      <td>...</td>\n",
       "      <td>1</td>\n",
       "      <td>1</td>\n",
       "      <td>0</td>\n",
       "      <td>0</td>\n",
       "      <td>0</td>\n",
       "      <td>0</td>\n",
       "      <td>102500.0</td>\n",
       "      <td>research</td>\n",
       "      <td>na</td>\n",
       "      <td>6499</td>\n",
       "    </tr>\n",
       "  </tbody>\n",
       "</table>\n",
       "<p>5 rows × 29 columns</p>\n",
       "</div>"
      ],
      "text/plain": [
       "   Unnamed: 0                                          Job Title  \\\n",
       "0           0  Data Science Graduate/Undergraduate - Immed St...   \n",
       "1           1       Graduate Data Science - Brisbane (Corporate)   \n",
       "2           2  Consulting - Data & AI - 2022/23 Summer Vacati...   \n",
       "3           3                                     Data Scientist   \n",
       "4           4                  Research Associate - Data Science   \n",
       "\n",
       "                 Salary Estimate       Average Salary  \\\n",
       "0  $97K - $141K (Glassdoor Est.)  $116,841 /yr (est.)   \n",
       "1  $97K - $141K (Glassdoor Est.)  $128,589 /yr (est.)   \n",
       "2  $97K - $141K (Glassdoor Est.)   $78,167 /yr (est.)   \n",
       "3  $97K - $141K (Glassdoor Est.)  $125,000 /yr (est.)   \n",
       "4  $97K - $141K (Glassdoor Est.)  $102,500 /yr (est.)   \n",
       "\n",
       "                                     Job Description  Rating  \\\n",
       "0  Be part of the Award Winning CIMIC Graduate Pr...     3.8   \n",
       "1  Job Number:\\n82295\\nWork type:\\nPermanent - Fu...     3.7   \n",
       "2  Date: 18-Jul-2022\\n\\nLocation:\\nCanberra, ACT,...     4.0   \n",
       "3  Job description\\nData Scientist Skills\\nProgra...    -1.0   \n",
       "4  Job no: 510607\\nWork type: Full time\\nLocation...     4.2   \n",
       "\n",
       "                         Company Name     Location                     Size  \\\n",
       "0                    UGL Limited\\n3.8  North Shore  5001 to 10000 Employees   \n",
       "1                        Aurizon\\n3.7     Brisbane   1001 to 5000 Employees   \n",
       "2                       Deloitte\\n4.0     Canberra         10000+ Employees   \n",
       "3            GoTech Solutions Pty Ltd       Sydney                       -1   \n",
       "4  University of New South Wales\\n4.2       Sydney   1001 to 5000 Employees   \n",
       "\n",
       "   Founded  ... r_yn ML_yn excel_yn spark_yn  aws_yn  graduate_yn ave_salary  \\\n",
       "0     1984  ...    1     0        1        0       0            1   116841.0   \n",
       "1     2009  ...    1     1        0        0       0            1   128589.0   \n",
       "2     1850  ...    1     1        1        0       0            0    78167.0   \n",
       "3       -1  ...    1     1        1        0       0            0   125000.0   \n",
       "4     1949  ...    1     1        0        0       0            0   102500.0   \n",
       "\n",
       "         job_simp  job_level  desc_len  \n",
       "0              na         na      2319  \n",
       "1              na         na      4012  \n",
       "2      consulting         na      3348  \n",
       "3  data scientist         na      1828  \n",
       "4        research         na      6499  \n",
       "\n",
       "[5 rows x 29 columns]"
      ]
     },
     "execution_count": 32,
     "metadata": {},
     "output_type": "execute_result"
    }
   ],
   "source": [
    "#laod data\n",
    "df_model = pd.read_csv('/Users/liminzhenscc/Documents/study/python_data_analyze/project/2data_sc_salary/glassdoor_jobs_eda.csv')\n",
    "df_model.head()\n"
   ]
  },
  {
   "cell_type": "code",
   "execution_count": 33,
   "id": "favorite-corrections",
   "metadata": {},
   "outputs": [
    {
     "data": {
      "text/plain": [
       "Index(['Unnamed: 0', 'Job Title', 'Salary Estimate', 'Average Salary',\n",
       "       'Job Description', 'Rating', 'Company Name', 'Location', 'Size',\n",
       "       'Founded', 'Type of ownership', 'Industry', 'Sector', 'Revenue',\n",
       "       'min_salary', 'max_salary', 'company_name', 'age', 'python_yn', 'r_yn',\n",
       "       'ML_yn', 'excel_yn', 'spark_yn', 'aws_yn', 'graduate_yn', 'ave_salary',\n",
       "       'job_simp', 'job_level', 'desc_len'],\n",
       "      dtype='object')"
      ]
     },
     "execution_count": 33,
     "metadata": {},
     "output_type": "execute_result"
    }
   ],
   "source": [
    "df_model.columns"
   ]
  },
  {
   "cell_type": "code",
   "execution_count": 34,
   "id": "foreign-advisory",
   "metadata": {},
   "outputs": [],
   "source": [
    "model_col = ['Rating','Location', 'Size', 'Type of ownership', 'Industry', 'Sector', 'Revenue', 'company_name', 'age', \n",
    "             'python_yn', 'r_yn', 'ML_yn', 'excel_yn', 'spark_yn', 'aws_yn', 'graduate_yn', 'ave_salary','job_simp', \n",
    "             'job_level', 'desc_len']\n",
    "data = df_model[model_col]"
   ]
  },
  {
   "cell_type": "code",
   "execution_count": 35,
   "id": "growing-pocket",
   "metadata": {},
   "outputs": [],
   "source": [
    "x_data = data.drop('ave_salary', axis=1)\n",
    "y_data = data['ave_salary']"
   ]
  },
  {
   "cell_type": "code",
   "execution_count": 36,
   "id": "aware-atmosphere",
   "metadata": {},
   "outputs": [
    {
     "data": {
      "text/html": [
       "<div>\n",
       "<style scoped>\n",
       "    .dataframe tbody tr th:only-of-type {\n",
       "        vertical-align: middle;\n",
       "    }\n",
       "\n",
       "    .dataframe tbody tr th {\n",
       "        vertical-align: top;\n",
       "    }\n",
       "\n",
       "    .dataframe thead th {\n",
       "        text-align: right;\n",
       "    }\n",
       "</style>\n",
       "<table border=\"1\" class=\"dataframe\">\n",
       "  <thead>\n",
       "    <tr style=\"text-align: right;\">\n",
       "      <th></th>\n",
       "      <th>Rating</th>\n",
       "      <th>Location</th>\n",
       "      <th>Size</th>\n",
       "      <th>Type of ownership</th>\n",
       "      <th>Industry</th>\n",
       "      <th>Sector</th>\n",
       "      <th>Revenue</th>\n",
       "      <th>company_name</th>\n",
       "      <th>age</th>\n",
       "      <th>python_yn</th>\n",
       "      <th>r_yn</th>\n",
       "      <th>ML_yn</th>\n",
       "      <th>excel_yn</th>\n",
       "      <th>spark_yn</th>\n",
       "      <th>aws_yn</th>\n",
       "      <th>graduate_yn</th>\n",
       "      <th>job_simp</th>\n",
       "      <th>job_level</th>\n",
       "      <th>desc_len</th>\n",
       "    </tr>\n",
       "  </thead>\n",
       "  <tbody>\n",
       "    <tr>\n",
       "      <th>0</th>\n",
       "      <td>3.8</td>\n",
       "      <td>North Shore</td>\n",
       "      <td>5001 to 10000 Employees</td>\n",
       "      <td>Subsidiary or Business Segment</td>\n",
       "      <td>Construction</td>\n",
       "      <td>Construction, Repair &amp; Maintenance Services</td>\n",
       "      <td>-1</td>\n",
       "      <td>UGL Limited</td>\n",
       "      <td>38</td>\n",
       "      <td>0</td>\n",
       "      <td>1</td>\n",
       "      <td>0</td>\n",
       "      <td>1</td>\n",
       "      <td>0</td>\n",
       "      <td>0</td>\n",
       "      <td>1</td>\n",
       "      <td>na</td>\n",
       "      <td>na</td>\n",
       "      <td>2319</td>\n",
       "    </tr>\n",
       "    <tr>\n",
       "      <th>1</th>\n",
       "      <td>3.7</td>\n",
       "      <td>Brisbane</td>\n",
       "      <td>1001 to 5000 Employees</td>\n",
       "      <td>Company - Public</td>\n",
       "      <td>Taxi &amp; Car Services</td>\n",
       "      <td>Transportation &amp; Logistics</td>\n",
       "      <td>$2 to $5 billion (USD)</td>\n",
       "      <td>Aurizon</td>\n",
       "      <td>13</td>\n",
       "      <td>0</td>\n",
       "      <td>1</td>\n",
       "      <td>1</td>\n",
       "      <td>0</td>\n",
       "      <td>0</td>\n",
       "      <td>0</td>\n",
       "      <td>1</td>\n",
       "      <td>na</td>\n",
       "      <td>na</td>\n",
       "      <td>4012</td>\n",
       "    </tr>\n",
       "    <tr>\n",
       "      <th>2</th>\n",
       "      <td>4.0</td>\n",
       "      <td>Canberra</td>\n",
       "      <td>10000+ Employees</td>\n",
       "      <td>Company - Private</td>\n",
       "      <td>Accounting &amp; Tax</td>\n",
       "      <td>Finance</td>\n",
       "      <td>$10+ billion (USD)</td>\n",
       "      <td>Deloitte</td>\n",
       "      <td>172</td>\n",
       "      <td>0</td>\n",
       "      <td>1</td>\n",
       "      <td>1</td>\n",
       "      <td>1</td>\n",
       "      <td>0</td>\n",
       "      <td>0</td>\n",
       "      <td>0</td>\n",
       "      <td>consulting</td>\n",
       "      <td>na</td>\n",
       "      <td>3348</td>\n",
       "    </tr>\n",
       "    <tr>\n",
       "      <th>3</th>\n",
       "      <td>-1.0</td>\n",
       "      <td>Sydney</td>\n",
       "      <td>-1</td>\n",
       "      <td>Company - Public</td>\n",
       "      <td>-1</td>\n",
       "      <td>-1</td>\n",
       "      <td>-1</td>\n",
       "      <td>GoTech Solutions Pty Ltd</td>\n",
       "      <td>-1</td>\n",
       "      <td>1</td>\n",
       "      <td>1</td>\n",
       "      <td>1</td>\n",
       "      <td>1</td>\n",
       "      <td>0</td>\n",
       "      <td>0</td>\n",
       "      <td>0</td>\n",
       "      <td>data scientist</td>\n",
       "      <td>na</td>\n",
       "      <td>1828</td>\n",
       "    </tr>\n",
       "    <tr>\n",
       "      <th>4</th>\n",
       "      <td>4.2</td>\n",
       "      <td>Sydney</td>\n",
       "      <td>1001 to 5000 Employees</td>\n",
       "      <td>College / University</td>\n",
       "      <td>Colleges &amp; Universities</td>\n",
       "      <td>Education</td>\n",
       "      <td>-1</td>\n",
       "      <td>University of New South Wales</td>\n",
       "      <td>73</td>\n",
       "      <td>1</td>\n",
       "      <td>1</td>\n",
       "      <td>1</td>\n",
       "      <td>0</td>\n",
       "      <td>0</td>\n",
       "      <td>0</td>\n",
       "      <td>0</td>\n",
       "      <td>research</td>\n",
       "      <td>na</td>\n",
       "      <td>6499</td>\n",
       "    </tr>\n",
       "    <tr>\n",
       "      <th>...</th>\n",
       "      <td>...</td>\n",
       "      <td>...</td>\n",
       "      <td>...</td>\n",
       "      <td>...</td>\n",
       "      <td>...</td>\n",
       "      <td>...</td>\n",
       "      <td>...</td>\n",
       "      <td>...</td>\n",
       "      <td>...</td>\n",
       "      <td>...</td>\n",
       "      <td>...</td>\n",
       "      <td>...</td>\n",
       "      <td>...</td>\n",
       "      <td>...</td>\n",
       "      <td>...</td>\n",
       "      <td>...</td>\n",
       "      <td>...</td>\n",
       "      <td>...</td>\n",
       "      <td>...</td>\n",
       "    </tr>\n",
       "    <tr>\n",
       "      <th>1256</th>\n",
       "      <td>4.0</td>\n",
       "      <td>Canberra</td>\n",
       "      <td>10000+ Employees</td>\n",
       "      <td>Company - Private</td>\n",
       "      <td>Accounting &amp; Tax</td>\n",
       "      <td>Finance</td>\n",
       "      <td>$10+ billion (USD)</td>\n",
       "      <td>Deloitte</td>\n",
       "      <td>172</td>\n",
       "      <td>0</td>\n",
       "      <td>1</td>\n",
       "      <td>0</td>\n",
       "      <td>0</td>\n",
       "      <td>0</td>\n",
       "      <td>0</td>\n",
       "      <td>0</td>\n",
       "      <td>analyst</td>\n",
       "      <td>na</td>\n",
       "      <td>5276</td>\n",
       "    </tr>\n",
       "    <tr>\n",
       "      <th>1257</th>\n",
       "      <td>3.8</td>\n",
       "      <td>Perth</td>\n",
       "      <td>10000+ Employees</td>\n",
       "      <td>Company - Public</td>\n",
       "      <td>Mining &amp; Metals</td>\n",
       "      <td>Energy, Mining, Utilities</td>\n",
       "      <td>$10+ billion (USD)</td>\n",
       "      <td>Rio Tinto</td>\n",
       "      <td>149</td>\n",
       "      <td>0</td>\n",
       "      <td>1</td>\n",
       "      <td>0</td>\n",
       "      <td>0</td>\n",
       "      <td>0</td>\n",
       "      <td>0</td>\n",
       "      <td>0</td>\n",
       "      <td>na</td>\n",
       "      <td>na</td>\n",
       "      <td>6599</td>\n",
       "    </tr>\n",
       "    <tr>\n",
       "      <th>1258</th>\n",
       "      <td>5.0</td>\n",
       "      <td>Sydney</td>\n",
       "      <td>1 to 50 Employees</td>\n",
       "      <td>Unknown</td>\n",
       "      <td>-1</td>\n",
       "      <td>-1</td>\n",
       "      <td>-1</td>\n",
       "      <td>Autumn Compass</td>\n",
       "      <td>-1</td>\n",
       "      <td>1</td>\n",
       "      <td>1</td>\n",
       "      <td>0</td>\n",
       "      <td>0</td>\n",
       "      <td>0</td>\n",
       "      <td>0</td>\n",
       "      <td>0</td>\n",
       "      <td>software developer</td>\n",
       "      <td>na</td>\n",
       "      <td>2334</td>\n",
       "    </tr>\n",
       "    <tr>\n",
       "      <th>1259</th>\n",
       "      <td>3.9</td>\n",
       "      <td>Sydney</td>\n",
       "      <td>-1</td>\n",
       "      <td>Unknown</td>\n",
       "      <td>-1</td>\n",
       "      <td>-1</td>\n",
       "      <td>-1</td>\n",
       "      <td>EY</td>\n",
       "      <td>-1</td>\n",
       "      <td>0</td>\n",
       "      <td>1</td>\n",
       "      <td>0</td>\n",
       "      <td>0</td>\n",
       "      <td>0</td>\n",
       "      <td>0</td>\n",
       "      <td>0</td>\n",
       "      <td>business information</td>\n",
       "      <td>senior</td>\n",
       "      <td>5266</td>\n",
       "    </tr>\n",
       "    <tr>\n",
       "      <th>1260</th>\n",
       "      <td>4.0</td>\n",
       "      <td>Brisbane</td>\n",
       "      <td>10000+ Employees</td>\n",
       "      <td>Company - Private</td>\n",
       "      <td>Accounting &amp; Tax</td>\n",
       "      <td>Finance</td>\n",
       "      <td>$10+ billion (USD)</td>\n",
       "      <td>Deloitte</td>\n",
       "      <td>172</td>\n",
       "      <td>0</td>\n",
       "      <td>1</td>\n",
       "      <td>0</td>\n",
       "      <td>1</td>\n",
       "      <td>0</td>\n",
       "      <td>0</td>\n",
       "      <td>1</td>\n",
       "      <td>consulting</td>\n",
       "      <td>na</td>\n",
       "      <td>3101</td>\n",
       "    </tr>\n",
       "  </tbody>\n",
       "</table>\n",
       "<p>1261 rows × 19 columns</p>\n",
       "</div>"
      ],
      "text/plain": [
       "      Rating     Location                     Size  \\\n",
       "0        3.8  North Shore  5001 to 10000 Employees   \n",
       "1        3.7     Brisbane   1001 to 5000 Employees   \n",
       "2        4.0     Canberra         10000+ Employees   \n",
       "3       -1.0       Sydney                       -1   \n",
       "4        4.2       Sydney   1001 to 5000 Employees   \n",
       "...      ...          ...                      ...   \n",
       "1256     4.0     Canberra         10000+ Employees   \n",
       "1257     3.8        Perth         10000+ Employees   \n",
       "1258     5.0       Sydney        1 to 50 Employees   \n",
       "1259     3.9       Sydney                       -1   \n",
       "1260     4.0     Brisbane         10000+ Employees   \n",
       "\n",
       "                   Type of ownership                 Industry  \\\n",
       "0     Subsidiary or Business Segment             Construction   \n",
       "1                   Company - Public      Taxi & Car Services   \n",
       "2                  Company - Private         Accounting & Tax   \n",
       "3                   Company - Public                       -1   \n",
       "4               College / University  Colleges & Universities   \n",
       "...                              ...                      ...   \n",
       "1256               Company - Private         Accounting & Tax   \n",
       "1257                Company - Public          Mining & Metals   \n",
       "1258                         Unknown                       -1   \n",
       "1259                         Unknown                       -1   \n",
       "1260               Company - Private         Accounting & Tax   \n",
       "\n",
       "                                           Sector                 Revenue  \\\n",
       "0     Construction, Repair & Maintenance Services                      -1   \n",
       "1                      Transportation & Logistics  $2 to $5 billion (USD)   \n",
       "2                                         Finance      $10+ billion (USD)   \n",
       "3                                              -1                      -1   \n",
       "4                                       Education                      -1   \n",
       "...                                           ...                     ...   \n",
       "1256                                      Finance      $10+ billion (USD)   \n",
       "1257                    Energy, Mining, Utilities      $10+ billion (USD)   \n",
       "1258                                           -1                      -1   \n",
       "1259                                           -1                      -1   \n",
       "1260                                      Finance      $10+ billion (USD)   \n",
       "\n",
       "                       company_name  age  python_yn  r_yn  ML_yn  excel_yn  \\\n",
       "0                       UGL Limited   38          0     1      0         1   \n",
       "1                           Aurizon   13          0     1      1         0   \n",
       "2                          Deloitte  172          0     1      1         1   \n",
       "3          GoTech Solutions Pty Ltd   -1          1     1      1         1   \n",
       "4     University of New South Wales   73          1     1      1         0   \n",
       "...                             ...  ...        ...   ...    ...       ...   \n",
       "1256                       Deloitte  172          0     1      0         0   \n",
       "1257                      Rio Tinto  149          0     1      0         0   \n",
       "1258                 Autumn Compass   -1          1     1      0         0   \n",
       "1259                             EY   -1          0     1      0         0   \n",
       "1260                       Deloitte  172          0     1      0         1   \n",
       "\n",
       "      spark_yn  aws_yn  graduate_yn              job_simp job_level  desc_len  \n",
       "0            0       0            1                    na        na      2319  \n",
       "1            0       0            1                    na        na      4012  \n",
       "2            0       0            0            consulting        na      3348  \n",
       "3            0       0            0        data scientist        na      1828  \n",
       "4            0       0            0              research        na      6499  \n",
       "...        ...     ...          ...                   ...       ...       ...  \n",
       "1256         0       0            0               analyst        na      5276  \n",
       "1257         0       0            0                    na        na      6599  \n",
       "1258         0       0            0    software developer        na      2334  \n",
       "1259         0       0            0  business information    senior      5266  \n",
       "1260         0       0            1            consulting        na      3101  \n",
       "\n",
       "[1261 rows x 19 columns]"
      ]
     },
     "execution_count": 36,
     "metadata": {},
     "output_type": "execute_result"
    }
   ],
   "source": [
    "x_data"
   ]
  },
  {
   "cell_type": "code",
   "execution_count": 37,
   "id": "stuck-institution",
   "metadata": {},
   "outputs": [
    {
     "name": "stdout",
     "output_type": "stream",
     "text": [
      "<class 'pandas.core.frame.DataFrame'>\n",
      "RangeIndex: 1261 entries, 0 to 1260\n",
      "Data columns (total 19 columns):\n",
      " #   Column             Non-Null Count  Dtype  \n",
      "---  ------             --------------  -----  \n",
      " 0   Rating             1261 non-null   float64\n",
      " 1   Location           1261 non-null   object \n",
      " 2   Size               1261 non-null   object \n",
      " 3   Type of ownership  1261 non-null   object \n",
      " 4   Industry           1261 non-null   object \n",
      " 5   Sector             1261 non-null   object \n",
      " 6   Revenue            1261 non-null   object \n",
      " 7   company_name       1261 non-null   object \n",
      " 8   age                1261 non-null   int64  \n",
      " 9   python_yn          1261 non-null   int64  \n",
      " 10  r_yn               1261 non-null   int64  \n",
      " 11  ML_yn              1261 non-null   int64  \n",
      " 12  excel_yn           1261 non-null   int64  \n",
      " 13  spark_yn           1261 non-null   int64  \n",
      " 14  aws_yn             1261 non-null   int64  \n",
      " 15  graduate_yn        1261 non-null   int64  \n",
      " 16  job_simp           1261 non-null   object \n",
      " 17  job_level          1261 non-null   object \n",
      " 18  desc_len           1261 non-null   int64  \n",
      "dtypes: float64(1), int64(9), object(9)\n",
      "memory usage: 187.3+ KB\n"
     ]
    }
   ],
   "source": [
    "x_data.info()"
   ]
  },
  {
   "cell_type": "code",
   "execution_count": 38,
   "id": "essential-buyer",
   "metadata": {},
   "outputs": [],
   "source": [
    "# This will turn all of the string values into category values\n",
    "for label, content in x_data.items():\n",
    "    if pd.api.types.is_string_dtype(content):\n",
    "        x_data[label] = content.astype(\"category\").cat.as_ordered()"
   ]
  },
  {
   "cell_type": "code",
   "execution_count": 39,
   "id": "traditional-novelty",
   "metadata": {},
   "outputs": [
    {
     "name": "stdout",
     "output_type": "stream",
     "text": [
      "<class 'pandas.core.frame.DataFrame'>\n",
      "RangeIndex: 1261 entries, 0 to 1260\n",
      "Data columns (total 19 columns):\n",
      " #   Column             Non-Null Count  Dtype   \n",
      "---  ------             --------------  -----   \n",
      " 0   Rating             1261 non-null   float64 \n",
      " 1   Location           1261 non-null   category\n",
      " 2   Size               1261 non-null   category\n",
      " 3   Type of ownership  1261 non-null   category\n",
      " 4   Industry           1261 non-null   category\n",
      " 5   Sector             1261 non-null   category\n",
      " 6   Revenue            1261 non-null   category\n",
      " 7   company_name       1261 non-null   category\n",
      " 8   age                1261 non-null   int64   \n",
      " 9   python_yn          1261 non-null   int64   \n",
      " 10  r_yn               1261 non-null   int64   \n",
      " 11  ML_yn              1261 non-null   int64   \n",
      " 12  excel_yn           1261 non-null   int64   \n",
      " 13  spark_yn           1261 non-null   int64   \n",
      " 14  aws_yn             1261 non-null   int64   \n",
      " 15  graduate_yn        1261 non-null   int64   \n",
      " 16  job_simp           1261 non-null   category\n",
      " 17  job_level          1261 non-null   category\n",
      " 18  desc_len           1261 non-null   int64   \n",
      "dtypes: category(9), float64(1), int64(9)\n",
      "memory usage: 116.8 KB\n"
     ]
    }
   ],
   "source": [
    "x_data.info()"
   ]
  },
  {
   "cell_type": "code",
   "execution_count": 40,
   "id": "secure-willow",
   "metadata": {},
   "outputs": [
    {
     "data": {
      "text/plain": [
       "Rating               0\n",
       "Location             0\n",
       "Size                 0\n",
       "Type of ownership    0\n",
       "Industry             0\n",
       "Sector               0\n",
       "Revenue              0\n",
       "company_name         0\n",
       "age                  0\n",
       "python_yn            0\n",
       "r_yn                 0\n",
       "ML_yn                0\n",
       "excel_yn             0\n",
       "spark_yn             0\n",
       "aws_yn               0\n",
       "graduate_yn          0\n",
       "job_simp             0\n",
       "job_level            0\n",
       "desc_len             0\n",
       "dtype: int64"
      ]
     },
     "execution_count": 40,
     "metadata": {},
     "output_type": "execute_result"
    }
   ],
   "source": [
    "x_data.isna().sum()"
   ]
  },
  {
   "cell_type": "code",
   "execution_count": 43,
   "id": "attended-reason",
   "metadata": {},
   "outputs": [
    {
     "data": {
      "text/plain": [
       "Rating               127\n",
       "Location               0\n",
       "Size                 152\n",
       "Type of ownership     44\n",
       "Industry             417\n",
       "Sector               415\n",
       "Revenue              568\n",
       "company_name           0\n",
       "age                  504\n",
       "python_yn              0\n",
       "r_yn                   0\n",
       "ML_yn                  0\n",
       "excel_yn               0\n",
       "spark_yn               0\n",
       "aws_yn                 0\n",
       "graduate_yn            0\n",
       "job_simp               0\n",
       "job_level              0\n",
       "desc_len               0\n",
       "dtype: int64"
      ]
     },
     "execution_count": 43,
     "metadata": {},
     "output_type": "execute_result"
    }
   ],
   "source": [
    "x_data.replace(-1, np.NaN, inplace=True)\n",
    "x_data.replace('-1', np.NaN, inplace=True)\n",
    "x_data.isna().sum()"
   ]
  },
  {
   "cell_type": "code",
   "execution_count": 44,
   "id": "consecutive-colleague",
   "metadata": {},
   "outputs": [],
   "source": [
    "# Fill numeric rows with the median\n",
    "for label, content in x_data.items():\n",
    "    if pd.api.types.is_numeric_dtype(content):\n",
    "        if pd.isnull(content).sum():\n",
    "            # Add a binary column which tells if the data was missing our not\n",
    "            x_data[label+\"_is_missing\"] = pd.isnull(content)\n",
    "            # Fill missing numeric values with median since it's more robust than the mean\n",
    "            x_data[label] = content.fillna(content.median())"
   ]
  },
  {
   "cell_type": "code",
   "execution_count": 45,
   "id": "contained-starter",
   "metadata": {},
   "outputs": [
    {
     "name": "stdout",
     "output_type": "stream",
     "text": [
      "Location\n",
      "Size\n",
      "Type of ownership\n",
      "Industry\n",
      "Sector\n",
      "Revenue\n",
      "company_name\n",
      "job_simp\n",
      "job_level\n"
     ]
    }
   ],
   "source": [
    "#turning categorical value to numbers\n",
    "# Check columns which *aren't* numeric\n",
    "for label, content in x_data.items():\n",
    "    if not pd.api.types.is_numeric_dtype(content):\n",
    "        print(label)"
   ]
  },
  {
   "cell_type": "code",
   "execution_count": 25,
   "id": "competent-delay",
   "metadata": {},
   "outputs": [
    {
     "data": {
      "text/plain": [
       "na        1006\n",
       "senior     130\n",
       "junior     125\n",
       "Name: job_level, dtype: int64"
      ]
     },
     "execution_count": 25,
     "metadata": {},
     "output_type": "execute_result"
    }
   ],
   "source": [
    "# Add binary column to inidicate whether sample had missing value\n"
   ]
  },
  {
   "cell_type": "code",
   "execution_count": 46,
   "id": "metropolitan-turtle",
   "metadata": {},
   "outputs": [],
   "source": [
    "# Turn categorical variables into numbers\n",
    "for label, content in x_data.items():\n",
    "    # Check columns which *aren't* numeric\n",
    "    if not pd.api.types.is_numeric_dtype(content):\n",
    "        # Add binary column to inidicate whether sample had missing value\n",
    "        x_data[label+\"_is_missing\"] = pd.isnull(content)\n",
    "        # We add the +1 because pandas encodes missing categories as -1\n",
    "        x_data[label] = pd.Categorical(content).codes+1  "
   ]
  },
  {
   "cell_type": "code",
   "execution_count": 49,
   "id": "gothic-simulation",
   "metadata": {},
   "outputs": [
    {
     "data": {
      "text/html": [
       "<div>\n",
       "<style scoped>\n",
       "    .dataframe tbody tr th:only-of-type {\n",
       "        vertical-align: middle;\n",
       "    }\n",
       "\n",
       "    .dataframe tbody tr th {\n",
       "        vertical-align: top;\n",
       "    }\n",
       "\n",
       "    .dataframe thead th {\n",
       "        text-align: right;\n",
       "    }\n",
       "</style>\n",
       "<table border=\"1\" class=\"dataframe\">\n",
       "  <thead>\n",
       "    <tr style=\"text-align: right;\">\n",
       "      <th></th>\n",
       "      <th>Rating</th>\n",
       "      <th>Location</th>\n",
       "      <th>Size</th>\n",
       "      <th>Type of ownership</th>\n",
       "      <th>Industry</th>\n",
       "      <th>Sector</th>\n",
       "      <th>Revenue</th>\n",
       "      <th>company_name</th>\n",
       "      <th>age</th>\n",
       "      <th>python_yn</th>\n",
       "      <th>r_yn</th>\n",
       "      <th>ML_yn</th>\n",
       "      <th>excel_yn</th>\n",
       "      <th>spark_yn</th>\n",
       "      <th>aws_yn</th>\n",
       "      <th>graduate_yn</th>\n",
       "      <th>job_simp</th>\n",
       "      <th>job_level</th>\n",
       "      <th>desc_len</th>\n",
       "    </tr>\n",
       "  </thead>\n",
       "  <tbody>\n",
       "    <tr>\n",
       "      <th>count</th>\n",
       "      <td>1261.000000</td>\n",
       "      <td>1261.000000</td>\n",
       "      <td>1261.000000</td>\n",
       "      <td>1261.000000</td>\n",
       "      <td>1261.000000</td>\n",
       "      <td>1261.000000</td>\n",
       "      <td>1261.000000</td>\n",
       "      <td>1261.000000</td>\n",
       "      <td>1261.000000</td>\n",
       "      <td>1261.000000</td>\n",
       "      <td>1261.0</td>\n",
       "      <td>1261.000000</td>\n",
       "      <td>1261.000000</td>\n",
       "      <td>1261.000000</td>\n",
       "      <td>1261.000000</td>\n",
       "      <td>1261.000000</td>\n",
       "      <td>1261.000000</td>\n",
       "      <td>1261.000000</td>\n",
       "      <td>1261.000000</td>\n",
       "    </tr>\n",
       "    <tr>\n",
       "      <th>mean</th>\n",
       "      <td>4.037193</td>\n",
       "      <td>10.444092</td>\n",
       "      <td>2.912768</td>\n",
       "      <td>3.011895</td>\n",
       "      <td>9.428232</td>\n",
       "      <td>6.344171</td>\n",
       "      <td>2.319588</td>\n",
       "      <td>38.957970</td>\n",
       "      <td>68.822363</td>\n",
       "      <td>0.343378</td>\n",
       "      <td>1.0</td>\n",
       "      <td>0.279144</td>\n",
       "      <td>0.348136</td>\n",
       "      <td>0.020619</td>\n",
       "      <td>0.051546</td>\n",
       "      <td>0.295797</td>\n",
       "      <td>6.022205</td>\n",
       "      <td>2.003965</td>\n",
       "      <td>3522.008723</td>\n",
       "    </tr>\n",
       "    <tr>\n",
       "      <th>std</th>\n",
       "      <td>0.427122</td>\n",
       "      <td>7.789457</td>\n",
       "      <td>2.036649</td>\n",
       "      <td>1.835458</td>\n",
       "      <td>11.927784</td>\n",
       "      <td>5.535071</td>\n",
       "      <td>2.454702</td>\n",
       "      <td>26.035823</td>\n",
       "      <td>58.290884</td>\n",
       "      <td>0.475025</td>\n",
       "      <td>0.0</td>\n",
       "      <td>0.448756</td>\n",
       "      <td>0.476569</td>\n",
       "      <td>0.142160</td>\n",
       "      <td>0.221197</td>\n",
       "      <td>0.456581</td>\n",
       "      <td>3.075941</td>\n",
       "      <td>0.449850</td>\n",
       "      <td>1527.683315</td>\n",
       "    </tr>\n",
       "    <tr>\n",
       "      <th>min</th>\n",
       "      <td>2.000000</td>\n",
       "      <td>1.000000</td>\n",
       "      <td>0.000000</td>\n",
       "      <td>0.000000</td>\n",
       "      <td>0.000000</td>\n",
       "      <td>0.000000</td>\n",
       "      <td>0.000000</td>\n",
       "      <td>1.000000</td>\n",
       "      <td>3.000000</td>\n",
       "      <td>0.000000</td>\n",
       "      <td>1.0</td>\n",
       "      <td>0.000000</td>\n",
       "      <td>0.000000</td>\n",
       "      <td>0.000000</td>\n",
       "      <td>0.000000</td>\n",
       "      <td>0.000000</td>\n",
       "      <td>1.000000</td>\n",
       "      <td>1.000000</td>\n",
       "      <td>114.000000</td>\n",
       "    </tr>\n",
       "    <tr>\n",
       "      <th>25%</th>\n",
       "      <td>3.800000</td>\n",
       "      <td>3.000000</td>\n",
       "      <td>2.000000</td>\n",
       "      <td>2.000000</td>\n",
       "      <td>0.000000</td>\n",
       "      <td>0.000000</td>\n",
       "      <td>0.000000</td>\n",
       "      <td>23.000000</td>\n",
       "      <td>38.000000</td>\n",
       "      <td>0.000000</td>\n",
       "      <td>1.0</td>\n",
       "      <td>0.000000</td>\n",
       "      <td>0.000000</td>\n",
       "      <td>0.000000</td>\n",
       "      <td>0.000000</td>\n",
       "      <td>0.000000</td>\n",
       "      <td>3.000000</td>\n",
       "      <td>2.000000</td>\n",
       "      <td>2836.000000</td>\n",
       "    </tr>\n",
       "    <tr>\n",
       "      <th>50%</th>\n",
       "      <td>4.000000</td>\n",
       "      <td>8.000000</td>\n",
       "      <td>2.000000</td>\n",
       "      <td>2.000000</td>\n",
       "      <td>1.000000</td>\n",
       "      <td>6.000000</td>\n",
       "      <td>3.000000</td>\n",
       "      <td>28.000000</td>\n",
       "      <td>41.000000</td>\n",
       "      <td>0.000000</td>\n",
       "      <td>1.0</td>\n",
       "      <td>0.000000</td>\n",
       "      <td>0.000000</td>\n",
       "      <td>0.000000</td>\n",
       "      <td>0.000000</td>\n",
       "      <td>0.000000</td>\n",
       "      <td>7.000000</td>\n",
       "      <td>2.000000</td>\n",
       "      <td>3426.000000</td>\n",
       "    </tr>\n",
       "    <tr>\n",
       "      <th>75%</th>\n",
       "      <td>4.000000</td>\n",
       "      <td>21.000000</td>\n",
       "      <td>5.000000</td>\n",
       "      <td>3.000000</td>\n",
       "      <td>22.000000</td>\n",
       "      <td>11.000000</td>\n",
       "      <td>3.000000</td>\n",
       "      <td>64.000000</td>\n",
       "      <td>117.000000</td>\n",
       "      <td>1.000000</td>\n",
       "      <td>1.0</td>\n",
       "      <td>1.000000</td>\n",
       "      <td>1.000000</td>\n",
       "      <td>0.000000</td>\n",
       "      <td>0.000000</td>\n",
       "      <td>1.000000</td>\n",
       "      <td>8.000000</td>\n",
       "      <td>2.000000</td>\n",
       "      <td>4497.000000</td>\n",
       "    </tr>\n",
       "    <tr>\n",
       "      <th>max</th>\n",
       "      <td>5.000000</td>\n",
       "      <td>21.000000</td>\n",
       "      <td>7.000000</td>\n",
       "      <td>8.000000</td>\n",
       "      <td>36.000000</td>\n",
       "      <td>18.000000</td>\n",
       "      <td>10.000000</td>\n",
       "      <td>90.000000</td>\n",
       "      <td>173.000000</td>\n",
       "      <td>1.000000</td>\n",
       "      <td>1.0</td>\n",
       "      <td>1.000000</td>\n",
       "      <td>1.000000</td>\n",
       "      <td>1.000000</td>\n",
       "      <td>1.000000</td>\n",
       "      <td>1.000000</td>\n",
       "      <td>10.000000</td>\n",
       "      <td>3.000000</td>\n",
       "      <td>12946.000000</td>\n",
       "    </tr>\n",
       "  </tbody>\n",
       "</table>\n",
       "</div>"
      ],
      "text/plain": [
       "            Rating     Location         Size  Type of ownership     Industry  \\\n",
       "count  1261.000000  1261.000000  1261.000000        1261.000000  1261.000000   \n",
       "mean      4.037193    10.444092     2.912768           3.011895     9.428232   \n",
       "std       0.427122     7.789457     2.036649           1.835458    11.927784   \n",
       "min       2.000000     1.000000     0.000000           0.000000     0.000000   \n",
       "25%       3.800000     3.000000     2.000000           2.000000     0.000000   \n",
       "50%       4.000000     8.000000     2.000000           2.000000     1.000000   \n",
       "75%       4.000000    21.000000     5.000000           3.000000    22.000000   \n",
       "max       5.000000    21.000000     7.000000           8.000000    36.000000   \n",
       "\n",
       "            Sector      Revenue  company_name          age    python_yn  \\\n",
       "count  1261.000000  1261.000000   1261.000000  1261.000000  1261.000000   \n",
       "mean      6.344171     2.319588     38.957970    68.822363     0.343378   \n",
       "std       5.535071     2.454702     26.035823    58.290884     0.475025   \n",
       "min       0.000000     0.000000      1.000000     3.000000     0.000000   \n",
       "25%       0.000000     0.000000     23.000000    38.000000     0.000000   \n",
       "50%       6.000000     3.000000     28.000000    41.000000     0.000000   \n",
       "75%      11.000000     3.000000     64.000000   117.000000     1.000000   \n",
       "max      18.000000    10.000000     90.000000   173.000000     1.000000   \n",
       "\n",
       "         r_yn        ML_yn     excel_yn     spark_yn       aws_yn  \\\n",
       "count  1261.0  1261.000000  1261.000000  1261.000000  1261.000000   \n",
       "mean      1.0     0.279144     0.348136     0.020619     0.051546   \n",
       "std       0.0     0.448756     0.476569     0.142160     0.221197   \n",
       "min       1.0     0.000000     0.000000     0.000000     0.000000   \n",
       "25%       1.0     0.000000     0.000000     0.000000     0.000000   \n",
       "50%       1.0     0.000000     0.000000     0.000000     0.000000   \n",
       "75%       1.0     1.000000     1.000000     0.000000     0.000000   \n",
       "max       1.0     1.000000     1.000000     1.000000     1.000000   \n",
       "\n",
       "       graduate_yn     job_simp    job_level      desc_len  \n",
       "count  1261.000000  1261.000000  1261.000000   1261.000000  \n",
       "mean      0.295797     6.022205     2.003965   3522.008723  \n",
       "std       0.456581     3.075941     0.449850   1527.683315  \n",
       "min       0.000000     1.000000     1.000000    114.000000  \n",
       "25%       0.000000     3.000000     2.000000   2836.000000  \n",
       "50%       0.000000     7.000000     2.000000   3426.000000  \n",
       "75%       1.000000     8.000000     2.000000   4497.000000  \n",
       "max       1.000000    10.000000     3.000000  12946.000000  "
      ]
     },
     "execution_count": 49,
     "metadata": {},
     "output_type": "execute_result"
    }
   ],
   "source": [
    "x_data.describe()"
   ]
  },
  {
   "cell_type": "code",
   "execution_count": 50,
   "id": "ranking-rental",
   "metadata": {},
   "outputs": [
    {
     "name": "stdout",
     "output_type": "stream",
     "text": [
      "<class 'pandas.core.frame.DataFrame'>\n",
      "RangeIndex: 1261 entries, 0 to 1260\n",
      "Data columns (total 30 columns):\n",
      " #   Column                        Non-Null Count  Dtype  \n",
      "---  ------                        --------------  -----  \n",
      " 0   Rating                        1261 non-null   float64\n",
      " 1   Location                      1261 non-null   int8   \n",
      " 2   Size                          1261 non-null   int8   \n",
      " 3   Type of ownership             1261 non-null   int8   \n",
      " 4   Industry                      1261 non-null   int8   \n",
      " 5   Sector                        1261 non-null   int8   \n",
      " 6   Revenue                       1261 non-null   int8   \n",
      " 7   company_name                  1261 non-null   int8   \n",
      " 8   age                           1261 non-null   float64\n",
      " 9   python_yn                     1261 non-null   int64  \n",
      " 10  r_yn                          1261 non-null   int64  \n",
      " 11  ML_yn                         1261 non-null   int64  \n",
      " 12  excel_yn                      1261 non-null   int64  \n",
      " 13  spark_yn                      1261 non-null   int64  \n",
      " 14  aws_yn                        1261 non-null   int64  \n",
      " 15  graduate_yn                   1261 non-null   int64  \n",
      " 16  job_simp                      1261 non-null   int8   \n",
      " 17  job_level                     1261 non-null   int8   \n",
      " 18  desc_len                      1261 non-null   int64  \n",
      " 19  Rating_is_missing             1261 non-null   bool   \n",
      " 20  age_is_missing                1261 non-null   bool   \n",
      " 21  Location_is_missing           1261 non-null   bool   \n",
      " 22  Size_is_missing               1261 non-null   bool   \n",
      " 23  Type of ownership_is_missing  1261 non-null   bool   \n",
      " 24  Industry_is_missing           1261 non-null   bool   \n",
      " 25  Sector_is_missing             1261 non-null   bool   \n",
      " 26  Revenue_is_missing            1261 non-null   bool   \n",
      " 27  company_name_is_missing       1261 non-null   bool   \n",
      " 28  job_simp_is_missing           1261 non-null   bool   \n",
      " 29  job_level_is_missing          1261 non-null   bool   \n",
      "dtypes: bool(11), float64(2), int64(8), int8(9)\n",
      "memory usage: 123.3 KB\n"
     ]
    }
   ],
   "source": [
    "x_data.info()"
   ]
  },
  {
   "cell_type": "code",
   "execution_count": 51,
   "id": "sonic-speech",
   "metadata": {},
   "outputs": [
    {
     "data": {
      "text/html": [
       "<div>\n",
       "<style scoped>\n",
       "    .dataframe tbody tr th:only-of-type {\n",
       "        vertical-align: middle;\n",
       "    }\n",
       "\n",
       "    .dataframe tbody tr th {\n",
       "        vertical-align: top;\n",
       "    }\n",
       "\n",
       "    .dataframe thead th {\n",
       "        text-align: right;\n",
       "    }\n",
       "</style>\n",
       "<table border=\"1\" class=\"dataframe\">\n",
       "  <thead>\n",
       "    <tr style=\"text-align: right;\">\n",
       "      <th></th>\n",
       "      <th>Rating</th>\n",
       "      <th>Location</th>\n",
       "      <th>Size</th>\n",
       "      <th>Type of ownership</th>\n",
       "      <th>Industry</th>\n",
       "      <th>Sector</th>\n",
       "      <th>Revenue</th>\n",
       "      <th>company_name</th>\n",
       "      <th>age</th>\n",
       "      <th>python_yn</th>\n",
       "      <th>...</th>\n",
       "      <th>age_is_missing</th>\n",
       "      <th>Location_is_missing</th>\n",
       "      <th>Size_is_missing</th>\n",
       "      <th>Type of ownership_is_missing</th>\n",
       "      <th>Industry_is_missing</th>\n",
       "      <th>Sector_is_missing</th>\n",
       "      <th>Revenue_is_missing</th>\n",
       "      <th>company_name_is_missing</th>\n",
       "      <th>job_simp_is_missing</th>\n",
       "      <th>job_level_is_missing</th>\n",
       "    </tr>\n",
       "  </thead>\n",
       "  <tbody>\n",
       "    <tr>\n",
       "      <th>0</th>\n",
       "      <td>3.8</td>\n",
       "      <td>11</td>\n",
       "      <td>5</td>\n",
       "      <td>7</td>\n",
       "      <td>11</td>\n",
       "      <td>3</td>\n",
       "      <td>0</td>\n",
       "      <td>80</td>\n",
       "      <td>38.0</td>\n",
       "      <td>0</td>\n",
       "      <td>...</td>\n",
       "      <td>False</td>\n",
       "      <td>False</td>\n",
       "      <td>False</td>\n",
       "      <td>False</td>\n",
       "      <td>False</td>\n",
       "      <td>False</td>\n",
       "      <td>True</td>\n",
       "      <td>False</td>\n",
       "      <td>False</td>\n",
       "      <td>False</td>\n",
       "    </tr>\n",
       "    <tr>\n",
       "      <th>1</th>\n",
       "      <td>3.7</td>\n",
       "      <td>3</td>\n",
       "      <td>3</td>\n",
       "      <td>3</td>\n",
       "      <td>35</td>\n",
       "      <td>18</td>\n",
       "      <td>5</td>\n",
       "      <td>8</td>\n",
       "      <td>13.0</td>\n",
       "      <td>0</td>\n",
       "      <td>...</td>\n",
       "      <td>False</td>\n",
       "      <td>False</td>\n",
       "      <td>False</td>\n",
       "      <td>False</td>\n",
       "      <td>False</td>\n",
       "      <td>False</td>\n",
       "      <td>False</td>\n",
       "      <td>False</td>\n",
       "      <td>False</td>\n",
       "      <td>False</td>\n",
       "    </tr>\n",
       "    <tr>\n",
       "      <th>2</th>\n",
       "      <td>4.0</td>\n",
       "      <td>4</td>\n",
       "      <td>2</td>\n",
       "      <td>2</td>\n",
       "      <td>1</td>\n",
       "      <td>6</td>\n",
       "      <td>3</td>\n",
       "      <td>23</td>\n",
       "      <td>172.0</td>\n",
       "      <td>0</td>\n",
       "      <td>...</td>\n",
       "      <td>False</td>\n",
       "      <td>False</td>\n",
       "      <td>False</td>\n",
       "      <td>False</td>\n",
       "      <td>False</td>\n",
       "      <td>False</td>\n",
       "      <td>False</td>\n",
       "      <td>False</td>\n",
       "      <td>False</td>\n",
       "      <td>False</td>\n",
       "    </tr>\n",
       "    <tr>\n",
       "      <th>3</th>\n",
       "      <td>4.0</td>\n",
       "      <td>21</td>\n",
       "      <td>0</td>\n",
       "      <td>3</td>\n",
       "      <td>0</td>\n",
       "      <td>0</td>\n",
       "      <td>0</td>\n",
       "      <td>35</td>\n",
       "      <td>41.0</td>\n",
       "      <td>1</td>\n",
       "      <td>...</td>\n",
       "      <td>True</td>\n",
       "      <td>False</td>\n",
       "      <td>True</td>\n",
       "      <td>False</td>\n",
       "      <td>True</td>\n",
       "      <td>True</td>\n",
       "      <td>True</td>\n",
       "      <td>False</td>\n",
       "      <td>False</td>\n",
       "      <td>False</td>\n",
       "    </tr>\n",
       "    <tr>\n",
       "      <th>4</th>\n",
       "      <td>4.2</td>\n",
       "      <td>21</td>\n",
       "      <td>3</td>\n",
       "      <td>1</td>\n",
       "      <td>9</td>\n",
       "      <td>4</td>\n",
       "      <td>0</td>\n",
       "      <td>81</td>\n",
       "      <td>73.0</td>\n",
       "      <td>1</td>\n",
       "      <td>...</td>\n",
       "      <td>False</td>\n",
       "      <td>False</td>\n",
       "      <td>False</td>\n",
       "      <td>False</td>\n",
       "      <td>False</td>\n",
       "      <td>False</td>\n",
       "      <td>True</td>\n",
       "      <td>False</td>\n",
       "      <td>False</td>\n",
       "      <td>False</td>\n",
       "    </tr>\n",
       "  </tbody>\n",
       "</table>\n",
       "<p>5 rows × 30 columns</p>\n",
       "</div>"
      ],
      "text/plain": [
       "   Rating  Location  Size  Type of ownership  Industry  Sector  Revenue  \\\n",
       "0     3.8        11     5                  7        11       3        0   \n",
       "1     3.7         3     3                  3        35      18        5   \n",
       "2     4.0         4     2                  2         1       6        3   \n",
       "3     4.0        21     0                  3         0       0        0   \n",
       "4     4.2        21     3                  1         9       4        0   \n",
       "\n",
       "   company_name    age  python_yn  ...  age_is_missing  Location_is_missing  \\\n",
       "0            80   38.0          0  ...           False                False   \n",
       "1             8   13.0          0  ...           False                False   \n",
       "2            23  172.0          0  ...           False                False   \n",
       "3            35   41.0          1  ...            True                False   \n",
       "4            81   73.0          1  ...           False                False   \n",
       "\n",
       "   Size_is_missing  Type of ownership_is_missing  Industry_is_missing  \\\n",
       "0            False                         False                False   \n",
       "1            False                         False                False   \n",
       "2            False                         False                False   \n",
       "3             True                         False                 True   \n",
       "4            False                         False                False   \n",
       "\n",
       "   Sector_is_missing  Revenue_is_missing  company_name_is_missing  \\\n",
       "0              False                True                    False   \n",
       "1              False               False                    False   \n",
       "2              False               False                    False   \n",
       "3               True                True                    False   \n",
       "4              False                True                    False   \n",
       "\n",
       "   job_simp_is_missing  job_level_is_missing  \n",
       "0                False                 False  \n",
       "1                False                 False  \n",
       "2                False                 False  \n",
       "3                False                 False  \n",
       "4                False                 False  \n",
       "\n",
       "[5 rows x 30 columns]"
      ]
     },
     "execution_count": 51,
     "metadata": {},
     "output_type": "execute_result"
    }
   ],
   "source": [
    "x_data.head()"
   ]
  },
  {
   "cell_type": "code",
   "execution_count": 53,
   "id": "located-floor",
   "metadata": {},
   "outputs": [
    {
     "data": {
      "text/plain": [
       "0       116841.0\n",
       "1       128589.0\n",
       "2        78167.0\n",
       "3       125000.0\n",
       "4       102500.0\n",
       "          ...   \n",
       "1256     72849.0\n",
       "1257     72849.0\n",
       "1258    120000.0\n",
       "1259     67572.0\n",
       "1260     81505.0\n",
       "Name: ave_salary, Length: 1261, dtype: float64"
      ]
     },
     "execution_count": 53,
     "metadata": {},
     "output_type": "execute_result"
    }
   ],
   "source": [
    "y_data"
   ]
  },
  {
   "cell_type": "markdown",
   "id": "strategic-bermuda",
   "metadata": {},
   "source": [
    "#### train test split"
   ]
  },
  {
   "cell_type": "code",
   "execution_count": 54,
   "id": "wicked-bridal",
   "metadata": {},
   "outputs": [
    {
     "name": "stdout",
     "output_type": "stream",
     "text": [
      "(1008, 30) (1008,)\n",
      "(253, 30) (253,)\n"
     ]
    }
   ],
   "source": [
    "x_train,x_test,y_train,y_test = train_test_split(x_data, y_data, test_size=0.2, random_state=42)\n",
    "print(x_train.shape, y_train.shape)\n",
    "print(x_test.shape, y_test.shape)"
   ]
  },
  {
   "cell_type": "markdown",
   "id": "forced-firewall",
   "metadata": {},
   "source": [
    "#### start modelling"
   ]
  },
  {
   "cell_type": "markdown",
   "id": "rotary-breathing",
   "metadata": {},
   "source": [
    "linear model"
   ]
  },
  {
   "cell_type": "code",
   "execution_count": 66,
   "id": "liable-elizabeth",
   "metadata": {},
   "outputs": [
    {
     "data": {
      "text/plain": [
       "LinearRegression()"
      ]
     },
     "execution_count": 66,
     "metadata": {},
     "output_type": "execute_result"
    }
   ],
   "source": [
    "from sklearn.linear_model import LinearRegression\n",
    "from sklearn.model_selection import cross_val_score\n",
    "lm=LinearRegression()\n",
    "lm.fit(x_train,y_train)"
   ]
  },
  {
   "cell_type": "code",
   "execution_count": 68,
   "id": "cloudy-narrow",
   "metadata": {},
   "outputs": [
    {
     "data": {
      "text/plain": [
       "-24582.030389913907"
      ]
     },
     "execution_count": 68,
     "metadata": {},
     "output_type": "execute_result"
    }
   ],
   "source": [
    "np.mean(cross_val_score(lm, x_train, y_train, scoring='neg_mean_absolute_error', cv=3))"
   ]
  },
  {
   "cell_type": "code",
   "execution_count": 114,
   "id": "heavy-assault",
   "metadata": {},
   "outputs": [
    {
     "data": {
      "text/plain": [
       "{'Training MAE': 23747.297724215463,\n",
       " 'Test MAE': 24706.934709794274,\n",
       " 'Training RMSE': 32921.30474433851,\n",
       " 'Test RMSE': 35769.135676385384,\n",
       " 'Training R^2': 0.44819060907220387,\n",
       " 'Test R^2': 0.3332879884430968}"
      ]
     },
     "execution_count": 114,
     "metadata": {},
     "output_type": "execute_result"
    }
   ],
   "source": [
    "show_scores(lm, x_train, y_train, x_test, y_test)"
   ]
  },
  {
   "cell_type": "markdown",
   "id": "defensive-flush",
   "metadata": {},
   "source": [
    "lasso model"
   ]
  },
  {
   "cell_type": "code",
   "execution_count": 116,
   "id": "handled-railway",
   "metadata": {},
   "outputs": [
    {
     "data": {
      "text/plain": [
       "Lasso(max_iter=10000)"
      ]
     },
     "execution_count": 116,
     "metadata": {},
     "output_type": "execute_result"
    }
   ],
   "source": [
    "from sklearn.linear_model import Lasso\n",
    "lml = Lasso(max_iter=10000)\n",
    "lml.fit(x_train,y_train)"
   ]
  },
  {
   "cell_type": "code",
   "execution_count": 117,
   "id": "forward-limit",
   "metadata": {},
   "outputs": [
    {
     "data": {
      "text/plain": [
       "-24587.547854303568"
      ]
     },
     "execution_count": 117,
     "metadata": {},
     "output_type": "execute_result"
    }
   ],
   "source": [
    "np.mean(cross_val_score(lml, x_train, y_train, scoring='neg_mean_absolute_error', cv=3))"
   ]
  },
  {
   "cell_type": "code",
   "execution_count": 80,
   "id": "professional-shield",
   "metadata": {},
   "outputs": [],
   "source": [
    "alpha=[]\n",
    "error=[]\n",
    "for i in range(1,100):\n",
    "    alpha.append(i/100)\n",
    "    lml = Lasso(alpha=i/100, max_iter=10000)\n",
    "    error.append(np.mean(cross_val_score(lml, x_train, y_train, scoring='neg_mean_absolute_error', cv=3)))"
   ]
  },
  {
   "cell_type": "code",
   "execution_count": 81,
   "id": "accredited-devon",
   "metadata": {
    "scrolled": true
   },
   "outputs": [
    {
     "data": {
      "text/plain": [
       "[<matplotlib.lines.Line2D at 0x133942790>]"
      ]
     },
     "execution_count": 81,
     "metadata": {},
     "output_type": "execute_result"
    },
    {
     "data": {
      "image/png": "[encoded data removed]",
      "text/plain": [
       "<Figure size 432x288 with 1 Axes>"
      ]
     },
     "metadata": {
      "needs_background": "light"
     },
     "output_type": "display_data"
    }
   ],
   "source": [
    "plt.plot(alpha,error)"
   ]
  },
  {
   "cell_type": "code",
   "execution_count": 86,
   "id": "hydraulic-little",
   "metadata": {},
   "outputs": [
    {
     "data": {
      "text/plain": [
       "-24587.71331441075"
      ]
     },
     "execution_count": 86,
     "metadata": {},
     "output_type": "execute_result"
    }
   ],
   "source": [
    "l=Lasso(alpha=0.5, max_iter=10000)\n",
    "l.fit(x_train,y_train)\n",
    "np.mean(cross_val_score(l, x_train, y_train, scoring='neg_mean_absolute_error', cv=3))"
   ]
  },
  {
   "cell_type": "code",
   "execution_count": 118,
   "id": "shaped-pepper",
   "metadata": {},
   "outputs": [
    {
     "data": {
      "text/plain": [
       "{'Training MAE': 23749.834866876205,\n",
       " 'Test MAE': 24700.329393200765,\n",
       " 'Training RMSE': 32921.392451851,\n",
       " 'Test RMSE': 35729.49274460972,\n",
       " 'Training R^2': 0.4481876688549862,\n",
       " 'Test R^2': 0.3347650032980859}"
      ]
     },
     "execution_count": 118,
     "metadata": {},
     "output_type": "execute_result"
    }
   ],
   "source": [
    "show_scores(lml, x_train, y_train, x_test, y_test)"
   ]
  },
  {
   "cell_type": "markdown",
   "id": "painful-relaxation",
   "metadata": {},
   "source": [
    "Lasso did not help in this case\n",
    "\n",
    "randomforest model"
   ]
  },
  {
   "cell_type": "code",
   "execution_count": 89,
   "id": "disabled-example",
   "metadata": {},
   "outputs": [
    {
     "data": {
      "text/plain": [
       "-12049.395730367301"
      ]
     },
     "execution_count": 89,
     "metadata": {},
     "output_type": "execute_result"
    }
   ],
   "source": [
    "rs=RandomForestRegressor()\n",
    "rs.fit(x_train,y_train)\n",
    "np.mean(cross_val_score(rs, x_train, y_train, scoring='neg_mean_absolute_error', cv=3))"
   ]
  },
  {
   "cell_type": "markdown",
   "id": "treated-yeast",
   "metadata": {},
   "source": [
    "it seems the randomForest model is the best model so far<br/>\n",
    "let's start to tuning the model's hyperparameters"
   ]
  },
  {
   "cell_type": "code",
   "execution_count": 111,
   "id": "saved-juvenile",
   "metadata": {},
   "outputs": [],
   "source": [
    "# Create evaluation function (the competition uses Root Mean Square Error)\n",
    "from sklearn.metrics import mean_squared_error, mean_absolute_error\n",
    "\n",
    "def rmse(y_test, y_preds):\n",
    "    return np.sqrt(mean_squared_error(y_test, y_preds))\n",
    "\n",
    "# Create function to evaluate our model\n",
    "def show_scores(model, x_train, y_train, x_test, y_test):\n",
    "    train_preds = model.predict(x_train)\n",
    "    val_preds = model.predict(x_test)\n",
    "    scores = {\"Training MAE\": mean_absolute_error(y_train, train_preds),\n",
    "              \"Test MAE\": mean_absolute_error(y_test, val_preds),\n",
    "              \"Training RMSE\": rmse(y_train, train_preds),\n",
    "              \"Test RMSE\": rmse(y_test, val_preds),\n",
    "              \"Training R^2\": model.score(x_train, y_train),\n",
    "              \"Test R^2\": model.score(x_test, y_test)}\n",
    "    return scores"
   ]
  },
  {
   "cell_type": "markdown",
   "id": "caring-looking",
   "metadata": {},
   "source": [
    "randomForestmodel"
   ]
  },
  {
   "cell_type": "code",
   "execution_count": 92,
   "id": "approximate-syracuse",
   "metadata": {},
   "outputs": [
    {
     "name": "stdout",
     "output_type": "stream",
     "text": [
      "Fitting 3 folds for each of 10 candidates, totalling 30 fits\n"
     ]
    },
    {
     "data": {
      "text/plain": [
       "RandomizedSearchCV(cv=3, estimator=RandomForestRegressor(),\n",
       "                   param_distributions={'criterion': ['mse', 'mae'],\n",
       "                                        'max_depth': [None, 3, 5, 10],\n",
       "                                        'max_features': [0.5, 1, 'sqrt',\n",
       "                                                         'auto'],\n",
       "                                        'min_samples_leaf': array([ 1,  3,  5,  7,  9, 11, 13, 15, 17, 19]),\n",
       "                                        'min_samples_split': array([ 2,  4,  6,  8, 10, 12, 14, 16, 18]),\n",
       "                                        'n_estimators': array([10, 15, 20, 25, 30, 35, 40, 45, 50, 55, 60, 65, 70, 75, 80, 85, 90,\n",
       "       95])},\n",
       "                   scoring='neg_mean_absolute_error', verbose=True)"
      ]
     },
     "execution_count": 92,
     "metadata": {},
     "output_type": "execute_result"
    }
   ],
   "source": [
    "#using randomize search to find the best hyperparameters for randomForest model\n",
    "from sklearn.model_selection import RandomizedSearchCV\n",
    "from sklearn.ensemble import RandomForestRegressor\n",
    "# Different RandomForestClassifier hyperparameters\n",
    "rf_grid = {\"n_estimators\": np.arange(10, 100, 5),\n",
    "           'criterion':['mse','mae'],\n",
    "           \"max_depth\": [None, 3, 5, 10],\n",
    "           \"min_samples_split\": np.arange(2, 20, 2),\n",
    "           \"min_samples_leaf\": np.arange(1, 20, 2),\n",
    "           \"max_features\": [0.5, 1, \"sqrt\", \"auto\"],\n",
    "           }\n",
    "\n",
    "rs_model = RandomizedSearchCV(RandomForestRegressor(),\n",
    "                              param_distributions=rf_grid,\n",
    "                              scoring='neg_mean_absolute_error',\n",
    "                              cv=3,\n",
    "                              verbose=True)\n",
    "\n",
    "rs_model.fit(x_train, y_train)"
   ]
  },
  {
   "cell_type": "code",
   "execution_count": 93,
   "id": "wrong-heating",
   "metadata": {},
   "outputs": [
    {
     "data": {
      "text/plain": [
       "{'n_estimators': 30,\n",
       " 'min_samples_split': 18,\n",
       " 'min_samples_leaf': 15,\n",
       " 'max_features': 0.5,\n",
       " 'max_depth': None,\n",
       " 'criterion': 'mae'}"
      ]
     },
     "execution_count": 93,
     "metadata": {},
     "output_type": "execute_result"
    }
   ],
   "source": [
    "#show the best parameters of random forest model\n",
    "rs_model.best_params_"
   ]
  },
  {
   "cell_type": "code",
   "execution_count": 97,
   "id": "lovely-location",
   "metadata": {},
   "outputs": [
    {
     "data": {
      "text/plain": [
       "RandomForestRegressor(criterion='mae', max_features=0.5, min_samples_leaf=15,\n",
       "                      min_samples_split=18, n_estimators=30)"
      ]
     },
     "execution_count": 97,
     "metadata": {},
     "output_type": "execute_result"
    }
   ],
   "source": [
    "#using the best model to fit the train data\n",
    "rs_best = RandomForestRegressor(n_estimators=30,\n",
    "                                min_samples_split=18,\n",
    "                                min_samples_leaf=15,\n",
    "                                max_features=0.5,\n",
    "                                max_depth=None, \n",
    "                                criterion='mae')\n",
    "rs_best.fit(x_train, y_train)"
   ]
  },
  {
   "cell_type": "code",
   "execution_count": 98,
   "id": "median-immigration",
   "metadata": {
    "scrolled": true
   },
   "outputs": [
    {
     "data": {
      "text/plain": [
       "-15169.596792328042"
      ]
     },
     "execution_count": 98,
     "metadata": {},
     "output_type": "execute_result"
    }
   ],
   "source": [
    "np.mean(cross_val_score(rs_best, x_train, y_train, scoring='neg_mean_absolute_error', cv=3))"
   ]
  },
  {
   "cell_type": "code",
   "execution_count": 102,
   "id": "handmade-imaging",
   "metadata": {},
   "outputs": [
    {
     "data": {
      "text/plain": [
       "GridSearchCV(cv=3, estimator=RandomForestRegressor(),\n",
       "             param_grid={'criterion': ('mse', 'mae'),\n",
       "                         'max_features': ('auto', 'sqrt', 'log2'),\n",
       "                         'n_estimators': range(10, 100, 10)},\n",
       "             scoring='neg_mean_absolute_error')"
      ]
     },
     "execution_count": 102,
     "metadata": {},
     "output_type": "execute_result"
    }
   ],
   "source": [
    "# tune models GridsearchCV \n",
    "from sklearn.model_selection import GridSearchCV\n",
    "parameters = {'n_estimators':range(10,100,10), 'criterion':('mse','mae'), 'max_features':('auto','sqrt','log2')}\n",
    "\n",
    "gs = GridSearchCV(RandomForestRegressor(),parameters,scoring='neg_mean_absolute_error',cv=3)\n",
    "gs.fit(x_train,y_train)"
   ]
  },
  {
   "cell_type": "code",
   "execution_count": 103,
   "id": "innocent-stranger",
   "metadata": {},
   "outputs": [
    {
     "data": {
      "text/plain": [
       "{'criterion': 'mae', 'max_features': 'auto', 'n_estimators': 90}"
      ]
     },
     "execution_count": 103,
     "metadata": {},
     "output_type": "execute_result"
    }
   ],
   "source": [
    "gs.best_params_"
   ]
  },
  {
   "cell_type": "code",
   "execution_count": 104,
   "id": "congressional-program",
   "metadata": {},
   "outputs": [
    {
     "data": {
      "text/plain": [
       "RandomForestRegressor(criterion='mae', n_estimators=90)"
      ]
     },
     "execution_count": 104,
     "metadata": {},
     "output_type": "execute_result"
    }
   ],
   "source": [
    "\n",
    "gs.best_estimator_"
   ]
  },
  {
   "cell_type": "code",
   "execution_count": 105,
   "id": "rapid-specification",
   "metadata": {},
   "outputs": [
    {
     "data": {
      "text/plain": [
       "-10909.617476851852"
      ]
     },
     "execution_count": 105,
     "metadata": {},
     "output_type": "execute_result"
    }
   ],
   "source": [
    "gs.best_score_"
   ]
  },
  {
   "cell_type": "code",
   "execution_count": 112,
   "id": "growing-assets",
   "metadata": {},
   "outputs": [
    {
     "data": {
      "text/plain": [
       "{'Training MAE': 8849.281944444443,\n",
       " 'Test MAE': 12700.804281949935,\n",
       " 'Training RMSE': 23949.754084166514,\n",
       " 'Test RMSE': 29925.177594907407,\n",
       " 'Training R^2': 0.7079635058078138,\n",
       " 'Test R^2': 0.5333461422604059}"
      ]
     },
     "execution_count": 112,
     "metadata": {},
     "output_type": "execute_result"
    }
   ],
   "source": [
    "show_scores(gs.best_estimator_, x_train, y_train, x_test, y_test)"
   ]
  },
  {
   "cell_type": "code",
   "execution_count": null,
   "id": "pointed-nudist",
   "metadata": {},
   "outputs": [],
   "source": []
  }
 ],
 "metadata": {
  "kernelspec": {
   "display_name": "Python 3",
   "language": "python",
   "name": "python3"
  },
  "language_info": {
   "codemirror_mode": {
    "name": "ipython",
    "version": 3
   },
   "file_extension": ".py",
   "mimetype": "text/x-python",
   "name": "python",
   "nbconvert_exporter": "python",
   "pygments_lexer": "ipython3",
   "version": "3.8.6"
  }
 },
 "nbformat": 4,
 "nbformat_minor": 5
}
